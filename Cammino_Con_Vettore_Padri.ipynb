{
 "cells": [
  {
   "attachments": {},
   "cell_type": "markdown",
   "metadata": {},
   "source": [
    "# Modifica DFS in modo tale che restituisca il vettore dei padri e si possa trovare un cammino che porta da x a y\n",
    "La visita DFS crea un albero detto albero DFS, visitando questo albero noi possiamo ottenere un cammino che va da x a y(non sempre è il caammino minimo). Dato che gli alberi vengono memorazzati come vettore dei padri modifichiamo la visita DFS per restituire il vettore dei padri e poi poter creare un cammino che va da x a y se y è raggiungibile da x"
   ]
  },
  {
   "cell_type": "code",
   "execution_count": null,
   "metadata": {},
   "outputs": [],
   "source": [
    "def padri(u, G):\n",
    "    def DFSr(u, G, P):\n",
    "        for y in G[u]:\n",
    "            if P[y] == -1: # y non è stato visitato\n",
    "                P[y] = u # y è figlio di u\n",
    "                DFSr(y, G, P) # visita ricorsiva di y\n",
    "    P = [-1] * len(G) # P[i] = padre di i, -1 se non esiste per questo lo si inizializza a -1\n",
    "    P[u] = u # u è padre di se stesso\n",
    "    DFSr(u, G, P) # visita ricorsiva di u\n",
    "    return P # restituisce la lista dei padri"
   ]
  },
  {
   "attachments": {},
   "cell_type": "markdown",
   "metadata": {},
   "source": [
    "Una volta che abbiamo ottenuto la lista dei padri possiamo vedere se esiste un cammino da x a y; partiamo da y e visitiamo al contrario lálbero fino alla radice, il cammino da x a y sarà il cammino che abbiamo fatto per arrivare a x ma reversato.\n",
    "Il costo comnputazionale è O(n)"
   ]
  },
  {
   "cell_type": "code",
   "execution_count": null,
   "metadata": {},
   "outputs": [],
   "source": [
    "# versione iterativa\n",
    "def camminoI(y,P):\n",
    "    if P[y] == -1: return [] # y non ha padre, non esiste il cammino\n",
    "    path = [] #inizializzo il cammino\n",
    "    while y != P[y]: # finchè y non è il suo padre(P[y] = y vuol dire che siamo alla radice)\n",
    "        path.append(y) # aggiungo y al cammino\n",
    "        y = P[y] # y diventa il suo padre\n",
    "    path.append(y) # aggiungo y al cammino(siamo arrivati alla radice)\n",
    "    path.reverse() # inverto il cammino\n",
    "    return path # restituisco il cammino\n",
    "\n",
    "# versione ricorsiva\n",
    "def camminoR(y,P):\n",
    "    if P[y] == -1: return [] # y non ha padre, non esiste il cammino\n",
    "    if y == P[y]: return [y] # y è la radice, il cammino è costituito solo da y\n",
    "    return camminoR(P[y],P) + [y] # ricorsione"
   ]
  }
 ],
 "metadata": {
  "kernelspec": {
   "display_name": "base",
   "language": "python",
   "name": "python3"
  },
  "language_info": {
   "name": "python",
   "version": "3.8.8"
  },
  "orig_nbformat": 4,
  "vscode": {
   "interpreter": {
    "hash": "94dd0d9a2fd24173885615e6272e35bce1114586d91cbd447fbd6e61dafc5e3a"
   }
  }
 },
 "nbformat": 4,
 "nbformat_minor": 2
}
