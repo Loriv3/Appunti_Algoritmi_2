{
 "cells": [
  {
   "attachments": {},
   "cell_type": "markdown",
   "metadata": {},
   "source": [
    "# Comnponenti connesse e fortemente connesse\n",
    "Qui vengono proposti e commentati i codici circa il restituire le componenti e le componenti fortemente connesse di un grafo. Ricordiamo che una componente connessa (o fortemente connessa nel caso di grafi diretti) è un insieme massimale di nodi connessi all'interno di un grafo. Le due implementazioni restituscono il vettore delle componenti: se due elementi a e b si trova nella stessa componente connessa (o fortemente connessa) C[a] = C[b]"
   ]
  },
  {
   "cell_type": "code",
   "execution_count": null,
   "metadata": {},
   "outputs": [],
   "source": [
    "def componenti_connesse(G):\n",
    "    def DFSr (x, G, C, c): # prende come argomenti un nodo x, il grafo G, la lista delle componenti connesse e il numero della componente connessa\n",
    "        C[x] = c # assegna il numero della componente connessa al nodo x\n",
    "        for y in G[x]: # per ogni nodo y adiacente a x\n",
    "            if C[y] == 0: # se y non è stato ancora visitato\n",
    "                DFSr(y, G, C, c) # visita ricorsivamente y\n",
    "    C = [0] * len(G) # lista delle componenti connesse\n",
    "    c = 0 # numero della componente connessa\n",
    "    for x in range(len(G)): # per ogni nodo x del grafo\n",
    "        if C[x] == 0: # se x non è stato ancora visitato\n",
    "            c += 1 # incrementa il numero della componente connessa\n",
    "            DFSr(x, G, C, c) # visita ricorsivamente x\n",
    "    return C # restituisce la lista delle componenti connesse"
   ]
  },
  {
   "attachments": {},
   "cell_type": "markdown",
   "metadata": {},
   "source": [
    "Qui in basso viene invece presentata una implementazione per cercare le componenti fortemente connesse in un gafo diretto; il procedimento qui risulta più \"complesso\" perchè oltra a vedere quali nodi sono visitabili da x dobbiamo vedere anche quali nodi portano ad x (non sappiamo se dato che esiste un arco [x,y] esista anche [y,x]). Per questo oltre a visitare il grafo dovremo costruirci e cisitare anche il suo grafo trasposto (stessi archi di G ma al contrario) e dopodichè fare l'intersezione tra i due insiemi che abbiamo trovato"
   ]
  },
  {
   "cell_type": "code",
   "execution_count": null,
   "metadata": {},
   "outputs": [],
   "source": [
    "def componenti_fortemente_connesse(G): \n",
    "    CFC = [] # lista delle componenti fortemente connesse\n",
    "    c = 0 # numero della componente fortemente connessa\n",
    "    for x in range(len(G)):\n",
    "        if CFC[x] == 0:\n",
    "            Componente = cerca_componente_fortemente_connessa(x,G) # trova la componente fortemente connessa a cui appartiene il nodo x\n",
    "            c += 1 # incrementa il numero della componente fortemente connessa\n",
    "            for i in Componente: # per ogni nodo i della componente fortemente connessa\n",
    "                CFC[i] = c # assegna il numero della componente fortemente connessa al nodo i\n",
    "    return CFC # restituisce la lista delle componenti fortemente connesse\n",
    "\n",
    "def cerca_componente_fortemente_connessa(x,G):\n",
    "    visitati1 = DFS(x,G) # visita in profondità del grafo G a partire dal nodo x per ottenere la lista dei nodi visitabili\n",
    "    visitati2 = DFS(x,trasposta(G)) # visita in profondità della trasposta del grafo G a partire dal nodo x per ottenere la lista dei nodi che possono arrivare a x\n",
    "    compoonente = [] # lista che conterrà i nodi della componente fortemente connessa\n",
    "    for i in range(len(visitati1)): # per ogni nodo visitato\n",
    "        if visitati1[i] == visitati2[i] == 1: # se il nodo è visitabile e raggiungibile da x\n",
    "            compoonente.append(i) # aggiungi il nodo alla componente\n",
    "    return compoonente # restituisce la lista dei nodi della componente fortemente connessa\n",
    "\n",
    "\n",
    "def trasoposta(G):\n",
    "    GT = [[] for i in range(len(G))] # crea una lista di liste vuote di lunghezza len(G)\n",
    "    for i in G: # per ogni nodo i del grafo\n",
    "        for j in G[i]: # per ogni nodo j adiacente a i\n",
    "            GT[j].append(i) # aggiungi i alla lista di adiacenza di j\n",
    "    return GT # restituisce la trasposta del grafo G\n",
    "\n",
    "\n",
    "def DFS(x,G):\n",
    "    visitati = [0] * len(G) # inizializza la lista dei nodi visitati\n",
    "    def DFSr (x, G, visitati): # prende come argomenti un nodo x, il grafo G e la lista dei nodi visitati\n",
    "        visitati[x] = 1 # segna il nodo x come visitato\n",
    "        for y in G[x]: # per ogni nodo y adiacente a x\n",
    "            if visitati[y] == 0: # se y non è stato ancora visitato\n",
    "                DFSr(y, G, visitati) # visita ricorsivamente y\n",
    "    DFSr(x, G, visitati) # visita ricorsivamente x\n",
    "    return visitati # restituisce la lista dei nodi visitati\n",
    "    "
   ]
  },
  {
   "attachments": {},
   "cell_type": "markdown",
   "metadata": {},
   "source": [
    "Le due implementazioni hanno costo computazionale molto diverso:\n",
    "- La prima ha un costo O(n+m) in quanto è una banale DFS\n",
    "- La seconda, che cerca le componenti FC, ha un costo molto più elevato perchè per ogni nodo crea un grafo trasposto e tutto questo procedimento ha costo O(n)*O(n+m) = O(n^2 = nm) = O(n^3)"
   ]
  }
 ],
 "metadata": {
  "language_info": {
   "name": "python"
  },
  "orig_nbformat": 4
 },
 "nbformat": 4,
 "nbformat_minor": 2
}
