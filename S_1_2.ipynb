{
 "cells": [
  {
   "attachments": {},
   "cell_type": "markdown",
   "metadata": {},
   "source": [
    "# Implementazione Algoritmo che trova un pozzo universale in Theta(n)\n",
    "\n",
    "Analizzando ogni M[x][y] nella mia matrice di adiacenza noto che: \n",
    "- se M[x][y] = 0 allora y non sarà pozzo universale\n",
    "- se M[x][y] = 1 allora x non sarà pozzo universale\n",
    "Conoscendo questa ricorrenza posso fare N test per rimuovere ad ogni passaggio un nodo, alla fine rimarrà un solo nodo che testerò se sia o meno pozzo universale"
   ]
  },
  {
   "cell_type": "code",
   "execution_count": null,
   "metadata": {},
   "outputs": [],
   "source": [
    "def test_pozzo_universale(M):\n",
    "    L = [x for x in range(len(M))] # crea una lista di tutti i nodi\n",
    "    while len(L) > 1: # finchè non ho un solo nodo\n",
    "        # estraggo i primi due nodi\n",
    "        x = L.pop(0)\n",
    "        y = L.pop(0)\n",
    "        # utilizzo la proprietà che ho notato\n",
    "        if M[x][y]:\n",
    "            L.append(y)\n",
    "        else:\n",
    "            L.append(x)\n",
    "    a = L[0] # a è il nodo che rimane\n",
    "    # verfico che a sia pozzo universale\n",
    "    for i in range(len(M)):\n",
    "        if M[a][i]: return False \n",
    "        if i != a and not M[i][a]: return False\n",
    "    return True\n",
    "        "
   ]
  },
  {
   "attachments": {},
   "cell_type": "markdown",
   "metadata": {},
   "source": [
    "Il while ha costo O(n) così come il for finale, il costo totale è Theta(n)"
   ]
  }
 ],
 "metadata": {
  "kernelspec": {
   "display_name": "base",
   "language": "python",
   "name": "python3"
  },
  "language_info": {
   "name": "python",
   "version": "3.8.8"
  },
  "orig_nbformat": 4,
  "vscode": {
   "interpreter": {
    "hash": "94dd0d9a2fd24173885615e6272e35bce1114586d91cbd447fbd6e61dafc5e3a"
   }
  }
 },
 "nbformat": 4,
 "nbformat_minor": 2
}
