{
 "cells": [
  {
   "attachments": {},
   "cell_type": "markdown",
   "metadata": {},
   "source": [
    "# Implementazione di un algoritmo in O(n^2) che dato un grafo verifica la presenza di un POZZO UNIVERSALE"
   ]
  },
  {
   "cell_type": "code",
   "execution_count": null,
   "metadata": {},
   "outputs": [],
   "source": [
    "def test_condizione_pozzo_universale(x,M): # x è un nodo del grafo, M è la matrice di adiacenza\n",
    "    for j in range(len(M)):\n",
    "        if M[x][j]: return False # se esiste un arco che parte da x, allora x non è un pozzo universale\n",
    "    for i in range(len(M)):\n",
    "        if i != x and not(M[i][x]): return False # se esiste un nodo i che non ha un arco che arriva a x, allora x non è un pozzo universale\n",
    "    return True\n",
    "\n",
    "def test_pozzo_universale(M):\n",
    "    for x in range(len(M)):\n",
    "        if test_condizione_pozzo_universale(x,M): return True\n",
    "    return False"
   ]
  },
  {
   "attachments": {},
   "cell_type": "markdown",
   "metadata": {},
   "source": [
    "Alla fine si ottiene che il costo totale è O(n^2) per ovvie ragioni"
   ]
  }
 ],
 "metadata": {
  "kernelspec": {
   "display_name": "base",
   "language": "python",
   "name": "python3"
  },
  "language_info": {
   "name": "python",
   "version": "3.8.8"
  },
  "orig_nbformat": 4,
  "vscode": {
   "interpreter": {
    "hash": "94dd0d9a2fd24173885615e6272e35bce1114586d91cbd447fbd6e61dafc5e3a"
   }
  }
 },
 "nbformat": 4,
 "nbformat_minor": 2
}
