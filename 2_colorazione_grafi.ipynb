{
 "cells": [
  {
   "attachments": {},
   "cell_type": "markdown",
   "metadata": {},
   "source": [
    "# Colorabilità di un grafo\n",
    "Vengono presentati qui di seguito i due algoritmi per la 2-colorazione di un grafo:\n",
    "- il primo algoritmo prende il grafo e lo colora, se il grafo non rispetta la condizione di avere cicli di lunghezza degli archi dispari restituirà una colorazione sbagliata"
   ]
  },
  {
   "cell_type": "code",
   "execution_count": null,
   "metadata": {},
   "outputs": [],
   "source": [
    "def colora_grafo(G):\n",
    "    def DFSr(x, G, colori, c): #prende in ordine: il nodo, il grafo, la lista dei nodi colorati, il colore da inserire\n",
    "        colore[x] = c #assegna il colore al nodo\n",
    "        for y in G[x]: #per ogni nodo adiacente a x\n",
    "            if colore[y] == -1: #se il nodo non è stato colorato\n",
    "                DFSr(y, G, colori, 1-c) #colora il nodo con il colore opposto a quello di x\n",
    "    colori = [-1]*len(G) #inizializza la lista dei colori\n",
    "    DFSr(0, G, colori, 0) #colora il grafo\n",
    "    return colori #restituisce la lista dei colori"
   ]
  },
  {
   "attachments": {},
   "cell_type": "markdown",
   "metadata": {},
   "source": [
    "- il secondo algoritmo proposto colora il grafo ma, se il grafo non è 2-colorabile, ritorna una stringa vuota"
   ]
  },
  {
   "cell_type": "code",
   "execution_count": null,
   "metadata": {},
   "outputs": [],
   "source": [
    "def colora_grafo_else_listaVuota(G):\n",
    "    def DFSr(x, G, colori, c): #prende in ordine: il nodo, il grafo, la lista dei nodi colorati, il colore da inserire\n",
    "        colore[x] = c #assegna il colore al nodo    \n",
    "        for y in G[x]: #per ogni nodo adiacente a x\n",
    "            if colore[y] == -1: #se il nodo non è stato colorato\n",
    "                if not DFSr(y, G, colori, 1-c): return False #se non è possibile colorare il grafo con questo colore, ritorna False\n",
    "            elif colore[y] == c: #se il nodo è stato colorato con lo stesso colore di x\n",
    "                return False #ritorna False\n",
    "        return True #se non è stato trovato nessun nodo con lo stesso colore di x, ritorna True\n",
    "    colori = [-1]*len(G) #inizializza la lista dei colori\n",
    "    if not DFSr(0, G, colori, 0): return [] #se non è possibile colorare il grafo, ritorna una lista vuota\n",
    "    return colori #restituisce la lista dei colori, altrimenti"
   ]
  },
  {
   "attachments": {},
   "cell_type": "markdown",
   "metadata": {},
   "source": [
    "Entrambe le implementazioni hanno un ovvio costo di O(n+m)"
   ]
  }
 ],
 "metadata": {
  "kernelspec": {
   "display_name": "base",
   "language": "python",
   "name": "python3"
  },
  "language_info": {
   "name": "python",
   "version": "3.8.8"
  },
  "orig_nbformat": 4,
  "vscode": {
   "interpreter": {
    "hash": "94dd0d9a2fd24173885615e6272e35bce1114586d91cbd447fbd6e61dafc5e3a"
   }
  }
 },
 "nbformat": 4,
 "nbformat_minor": 2
}
