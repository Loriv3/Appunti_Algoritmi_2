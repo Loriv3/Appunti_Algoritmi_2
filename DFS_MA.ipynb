{
 "cells": [
  {
   "attachments": {},
   "cell_type": "markdown",
   "metadata": {},
   "source": [
    "# DFS su grafo rappresentato tramite matrice di adiacenza\n",
    "Esegue una visita dei nodi raggiungibili da u, costo computazionale O(n^2)"
   ]
  },
  {
   "cell_type": "code",
   "execution_count": null,
   "metadata": {},
   "outputs": [],
   "source": [
    "def DFS(u,M): # prende un nodo u e la matrice M\n",
    "    def DFSr(x,M,visitati): # funzione ricorsiva che fa effetivamente il DFS\n",
    "        visitati[x] = 1 # segna il nodo come visitato\n",
    "        for y in range(len(M)):\n",
    "            # se il nodo y è collegato a x e non è stato visitato fai il DFS su y\n",
    "            if M[x][y] == 1 and visitati[y] == 0:\n",
    "                DFSr(y,M,visitati) \n",
    "    visitati = [0]*len(M) # inizializza la lista dei visitati\n",
    "    DFSr(u,M,visitati) # chiama la funzione ricorsiva\n",
    "    return visitati # ritorna la lista dei visitati"
   ]
  },
  {
   "attachments": {},
   "cell_type": "markdown",
   "metadata": {},
   "source": [
    "Al termine visitati[i] sarà uno se e solo se i è raggiungibile da u"
   ]
  }
 ],
 "metadata": {
  "kernelspec": {
   "display_name": "base",
   "language": "python",
   "name": "python3"
  },
  "language_info": {
   "name": "python",
   "version": "3.8.8"
  },
  "orig_nbformat": 4,
  "vscode": {
   "interpreter": {
    "hash": "94dd0d9a2fd24173885615e6272e35bce1114586d91cbd447fbd6e61dafc5e3a"
   }
  }
 },
 "nbformat": 4,
 "nbformat_minor": 2
}
