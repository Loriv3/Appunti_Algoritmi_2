{
 "cells": [
  {
   "attachments": {},
   "cell_type": "markdown",
   "metadata": {},
   "source": [
    "# DFS su grafo implementato con liste di adiacenza\n",
    "Costo computazionale O(n+m)"
   ]
  },
  {
   "cell_type": "code",
   "execution_count": null,
   "metadata": {},
   "outputs": [],
   "source": [
    "def DFS(u,G): # prende un nodo u e la lista di adiacenza G\n",
    "    def DFSr(x,G,visitati): # funzione ricorsiva che fa effetivamente il DFS\n",
    "        visitati[x] = 1 # segna il nodo come visitato\n",
    "        for y in G[x]: # per ogni nodo y adiacente a x\n",
    "            # se il nodo y non è stato visitato fai il DFS su y\n",
    "            if visitati[y] == 0:\n",
    "                DFSr(y,G,visitati) \n",
    "    visitati = [0]*len(G) # inizializza la lista dei visitati\n",
    "    DFSr(u,M,visitati) # chiama la funzione ricorsiva\n",
    "    return visitati # ritorna la lista dei visitati"
   ]
  }
 ],
 "metadata": {
  "kernelspec": {
   "display_name": "base",
   "language": "python",
   "name": "python3"
  },
  "language_info": {
   "name": "python",
   "version": "3.8.8"
  },
  "orig_nbformat": 4,
  "vscode": {
   "interpreter": {
    "hash": "94dd0d9a2fd24173885615e6272e35bce1114586d91cbd447fbd6e61dafc5e3a"
   }
  }
 },
 "nbformat": 4,
 "nbformat_minor": 2
}
